{
 "cells": [
  {
   "cell_type": "code",
   "execution_count": 22,
   "metadata": {},
   "outputs": [],
   "source": [
    "import torch\n",
    "import numpy as np\n",
    "\n",
    "_ = torch.manual_seed(42)"
   ]
  },
  {
   "cell_type": "code",
   "execution_count": 41,
   "metadata": {},
   "outputs": [
    {
     "name": "stdout",
     "output_type": "stream",
     "text": [
      "tensor([[-0.2372,  1.5820,  1.9616,  2.2083,  1.6262,  1.6086,  0.5403,  1.8828,\n",
      "          0.5303,  0.3491],\n",
      "        [-0.4614,  2.0330,  3.3893,  4.6533,  2.7196,  2.9572,  1.2604,  2.7854,\n",
      "          0.9951,  0.7921],\n",
      "        [ 0.3682, -0.5472, -2.2663, -4.0833, -1.7140, -2.1839, -1.2218, -1.3201,\n",
      "         -0.7569, -0.7488],\n",
      "        [-0.0654, -0.3721,  0.2107,  0.8858,  0.1049,  0.3106,  0.3110, -0.1598,\n",
      "          0.1180,  0.1837],\n",
      "        [ 0.1002, -0.6852, -0.8353, -0.9266, -0.6940, -0.6821, -0.2247, -0.8095,\n",
      "         -0.2245, -0.1456],\n",
      "        [-0.0090, -0.0484,  0.0303,  0.1213,  0.0157,  0.0434,  0.0423, -0.0196,\n",
      "          0.0164,  0.0250],\n",
      "        [ 0.2231, -1.3954, -1.8071, -2.1085, -1.4901, -1.4976, -0.5267, -1.6932,\n",
      "         -0.4955, -0.3384],\n",
      "        [ 0.0945, -0.2484, -0.6256, -1.0108, -0.4857, -0.5781, -0.2919, -0.4294,\n",
      "         -0.1980, -0.1804],\n",
      "        [ 0.1641, -1.8107, -1.6495, -1.2820, -1.4292, -1.2304, -0.2302, -1.9041,\n",
      "         -0.3918, -0.1640],\n",
      "        [ 0.4905, -2.4352, -3.7151, -4.8535, -3.0077, -3.1891, -1.2851, -3.1913,\n",
      "         -1.0676, -0.8125]])\n"
     ]
    }
   ],
   "source": [
    "d, k = 10, 10\n",
    "\n",
    "# Forcefully creating a rank deficient matrix\n",
    "rank = 2\n",
    "W = torch.randn(d,rank) @ torch.randn(rank,k)\n",
    "print(W)"
   ]
  },
  {
   "cell_type": "code",
   "execution_count": 42,
   "metadata": {},
   "outputs": [
    {
     "name": "stdout",
     "output_type": "stream",
     "text": [
      "U : torch.Size([10, 10])\n",
      "S : torch.Size([10])\n",
      "V : torch.Size([10, 10])\n"
     ]
    }
   ],
   "source": [
    "U, S , V = torch.svd(W)\n",
    "\n",
    "print(f\"U : {U.shape}\")\n",
    "print(f\"S : {S.shape}\")\n",
    "print(f\"V : {V.shape}\")"
   ]
  },
  {
   "cell_type": "code",
   "execution_count": 43,
   "metadata": {},
   "outputs": [
    {
     "name": "stdout",
     "output_type": "stream",
     "text": [
      "U_r : torch.Size([10, 2])\n",
      "S_r : torch.Size([2, 2])\n",
      "V_r : torch.Size([2, 10])\n"
     ]
    }
   ],
   "source": [
    "# rank factorization\n",
    "U_r = U[:,:rank]\n",
    "S_r = torch.diag(S[:rank])\n",
    "V_r = V[:,:rank].t()\n",
    "\n",
    "print(f\"U_r : {U_r.shape}\")\n",
    "print(f\"S_r : {S_r.shape}\")\n",
    "print(f\"V_r : {V_r.shape}\")"
   ]
  },
  {
   "cell_type": "code",
   "execution_count": 44,
   "metadata": {},
   "outputs": [
    {
     "name": "stdout",
     "output_type": "stream",
     "text": [
      "B : torch.Size([10, 2])\n",
      "A : torch.Size([2, 10])\n"
     ]
    }
   ],
   "source": [
    "B = U_r @ S_r\n",
    "A = V_r\n",
    "\n",
    "print(f\"B : {B.shape}\")\n",
    "print(f\"A : {A.shape}\")"
   ]
  },
  {
   "cell_type": "code",
   "execution_count": 45,
   "metadata": {},
   "outputs": [],
   "source": [
    "bias = torch.randn(d)\n",
    "x = torch.randn(d)"
   ]
  },
  {
   "cell_type": "code",
   "execution_count": 46,
   "metadata": {},
   "outputs": [],
   "source": [
    "y = W @ x + bias\n",
    "y_prime = (B @ A) @ x + bias"
   ]
  },
  {
   "cell_type": "code",
   "execution_count": 47,
   "metadata": {},
   "outputs": [
    {
     "name": "stdout",
     "output_type": "stream",
     "text": [
      "Original Output : \n",
      "tensor([ 1.8099,  3.7031, -1.4406,  0.4295, -1.1809,  0.4950, -1.3792, -0.5206,\n",
      "        -0.6639, -4.0201])\n",
      "Low Rank Output : \n",
      "tensor([ 1.8099,  3.7031, -1.4406,  0.4295, -1.1809,  0.4950, -1.3792, -0.5206,\n",
      "        -0.6639, -4.0201])\n"
     ]
    }
   ],
   "source": [
    "print(f\"Original Output : \\n{y}\")\n",
    "print(f\"Low Rank Output : \\n{y_prime}\")"
   ]
  },
  {
   "cell_type": "code",
   "execution_count": 48,
   "metadata": {},
   "outputs": [
    {
     "name": "stdout",
     "output_type": "stream",
     "text": [
      "Total parameters in original : 100\n",
      "Total parameters in B and A : 40\n"
     ]
    }
   ],
   "source": [
    "print(f\"Total parameters in original : {W.nelement()}\")\n",
    "print(f\"Total parameters in B and A : {B.nelement() + A.nelement()}\")"
   ]
  },
  {
   "cell_type": "code",
   "execution_count": null,
   "metadata": {},
   "outputs": [],
   "source": []
  }
 ],
 "metadata": {
  "kernelspec": {
   "display_name": ".venv",
   "language": "python",
   "name": "python3"
  },
  "language_info": {
   "codemirror_mode": {
    "name": "ipython",
    "version": 3
   },
   "file_extension": ".py",
   "mimetype": "text/x-python",
   "name": "python",
   "nbconvert_exporter": "python",
   "pygments_lexer": "ipython3",
   "version": "3.9.6"
  }
 },
 "nbformat": 4,
 "nbformat_minor": 2
}
